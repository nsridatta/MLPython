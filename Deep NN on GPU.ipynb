{
  "nbformat": 4,
  "nbformat_minor": 0,
  "metadata": {
    "colab": {
      "name": "Untitled0.ipynb",
      "version": "0.3.2",
      "provenance": [],
      "include_colab_link": true
    },
    "kernelspec": {
      "name": "python3",
      "display_name": "Python 3"
    },
    "accelerator": "GPU"
  },
  "cells": [
    {
      "cell_type": "markdown",
      "metadata": {
        "id": "view-in-github",
        "colab_type": "text"
      },
      "source": [
        "<a href=\"https://colab.research.google.com/github/nsridatta/MLPython/blob/master/Deep%20NN%20on%20GPU.ipynb\" target=\"_parent\"><img src=\"https://colab.research.google.com/assets/colab-badge.svg\" alt=\"Open In Colab\"/></a>"
      ]
    },
    {
      "metadata": {
        "id": "byXFePJY8Vd4",
        "colab_type": "code",
        "colab": {
          "base_uri": "https://localhost:8080/",
          "height": 165
        },
        "outputId": "6ca7087c-c266-414b-a06c-3d11f762ad7d"
      },
      "cell_type": "code",
      "source": [
        "!pip install keras"
      ],
      "execution_count": 2,
      "outputs": [
        {
          "output_type": "stream",
          "text": [
            "Requirement already satisfied: keras in /usr/local/lib/python3.6/dist-packages (2.2.4)\n",
            "Requirement already satisfied: h5py in /usr/local/lib/python3.6/dist-packages (from keras) (2.8.0)\n",
            "Requirement already satisfied: numpy>=1.9.1 in /usr/local/lib/python3.6/dist-packages (from keras) (1.14.6)\n",
            "Requirement already satisfied: pyyaml in /usr/local/lib/python3.6/dist-packages (from keras) (3.13)\n",
            "Requirement already satisfied: keras-applications>=1.0.6 in /usr/local/lib/python3.6/dist-packages (from keras) (1.0.7)\n",
            "Requirement already satisfied: scipy>=0.14 in /usr/local/lib/python3.6/dist-packages (from keras) (1.1.0)\n",
            "Requirement already satisfied: six>=1.9.0 in /usr/local/lib/python3.6/dist-packages (from keras) (1.11.0)\n",
            "Requirement already satisfied: keras-preprocessing>=1.0.5 in /usr/local/lib/python3.6/dist-packages (from keras) (1.0.9)\n"
          ],
          "name": "stdout"
        }
      ]
    },
    {
      "metadata": {
        "id": "eZiPMov--eia",
        "colab_type": "code",
        "colab": {
          "base_uri": "https://localhost:8080/",
          "height": 1404
        },
        "outputId": "414aeeb9-d7f7-42de-b369-d3114c51db82"
      },
      "cell_type": "code",
      "source": [
        "'''Trains a simple deep NN on the MNIST dataset.\n",
        "Gets to 98.40% test accuracy after 20 epochs\n",
        "(there is *a lot* of margin for parameter tuning).\n",
        "2 seconds per epoch on a K520 GPU.\n",
        "'''\n",
        "\n",
        "from __future__ import print_function\n",
        "\n",
        "import keras\n",
        "from keras.datasets import mnist\n",
        "from keras.models import Sequential\n",
        "from keras.layers import Dense, Dropout\n",
        "from keras.optimizers import RMSprop\n",
        "\n",
        "batch_size = 128\n",
        "num_classes = 10\n",
        "epochs = 20\n",
        "\n",
        "# the data, split between train and test sets\n",
        "(x_train, y_train), (x_test, y_test) = mnist.load_data()\n",
        "\n",
        "x_train = x_train.reshape(60000, 784)\n",
        "x_test = x_test.reshape(10000, 784)\n",
        "x_train = x_train.astype('float32')\n",
        "x_test = x_test.astype('float32')\n",
        "x_train /= 255\n",
        "x_test /= 255\n",
        "print(x_train.shape[0], 'train samples')\n",
        "print(x_test.shape[0], 'test samples')\n",
        "\n",
        "# convert class vectors to binary class matrices\n",
        "y_train = keras.utils.to_categorical(y_train, num_classes)\n",
        "y_test = keras.utils.to_categorical(y_test, num_classes)\n",
        "\n",
        "model = Sequential()\n",
        "model.add(Dense(512, activation='relu', input_shape=(784,)))\n",
        "model.add(Dropout(0.2))\n",
        "model.add(Dense(512, activation='relu'))\n",
        "model.add(Dropout(0.2))\n",
        "model.add(Dense(num_classes, activation='softmax'))\n",
        "\n",
        "model.summary()\n",
        "\n",
        "model.compile(loss='categorical_crossentropy',\n",
        "              optimizer=RMSprop(),\n",
        "              metrics=['accuracy'])\n",
        "\n",
        "history = model.fit(x_train, y_train,\n",
        "                    batch_size=batch_size,\n",
        "                    epochs=epochs,\n",
        "                    verbose=1,\n",
        "                    validation_data=(x_test, y_test))\n",
        "score = model.evaluate(x_test, y_test, verbose=0)\n",
        "print('Test loss:', score[0])\n",
        "print('Test accuracy:', score[1])"
      ],
      "execution_count": 3,
      "outputs": [
        {
          "output_type": "stream",
          "text": [
            "Using TensorFlow backend.\n"
          ],
          "name": "stderr"
        },
        {
          "output_type": "stream",
          "text": [
            "Downloading data from https://s3.amazonaws.com/img-datasets/mnist.npz\n",
            "11493376/11490434 [==============================] - 2s 0us/step\n",
            "60000 train samples\n",
            "10000 test samples\n",
            "WARNING:tensorflow:From /usr/local/lib/python3.6/dist-packages/tensorflow/python/framework/op_def_library.py:263: colocate_with (from tensorflow.python.framework.ops) is deprecated and will be removed in a future version.\n",
            "Instructions for updating:\n",
            "Colocations handled automatically by placer.\n",
            "WARNING:tensorflow:From /usr/local/lib/python3.6/dist-packages/keras/backend/tensorflow_backend.py:3445: calling dropout (from tensorflow.python.ops.nn_ops) with keep_prob is deprecated and will be removed in a future version.\n",
            "Instructions for updating:\n",
            "Please use `rate` instead of `keep_prob`. Rate should be set to `rate = 1 - keep_prob`.\n",
            "_________________________________________________________________\n",
            "Layer (type)                 Output Shape              Param #   \n",
            "=================================================================\n",
            "dense_1 (Dense)              (None, 512)               401920    \n",
            "_________________________________________________________________\n",
            "dropout_1 (Dropout)          (None, 512)               0         \n",
            "_________________________________________________________________\n",
            "dense_2 (Dense)              (None, 512)               262656    \n",
            "_________________________________________________________________\n",
            "dropout_2 (Dropout)          (None, 512)               0         \n",
            "_________________________________________________________________\n",
            "dense_3 (Dense)              (None, 10)                5130      \n",
            "=================================================================\n",
            "Total params: 669,706\n",
            "Trainable params: 669,706\n",
            "Non-trainable params: 0\n",
            "_________________________________________________________________\n",
            "WARNING:tensorflow:From /usr/local/lib/python3.6/dist-packages/tensorflow/python/ops/math_ops.py:3066: to_int32 (from tensorflow.python.ops.math_ops) is deprecated and will be removed in a future version.\n",
            "Instructions for updating:\n",
            "Use tf.cast instead.\n",
            "Train on 60000 samples, validate on 10000 samples\n",
            "Epoch 1/20\n",
            "60000/60000 [==============================] - 5s 89us/step - loss: 0.2470 - acc: 0.9237 - val_loss: 0.1038 - val_acc: 0.9671\n",
            "Epoch 2/20\n",
            "60000/60000 [==============================] - 3s 46us/step - loss: 0.1028 - acc: 0.9684 - val_loss: 0.0867 - val_acc: 0.9735\n",
            "Epoch 3/20\n",
            "60000/60000 [==============================] - 3s 46us/step - loss: 0.0755 - acc: 0.9774 - val_loss: 0.0863 - val_acc: 0.9729\n",
            "Epoch 4/20\n",
            "60000/60000 [==============================] - 3s 46us/step - loss: 0.0612 - acc: 0.9813 - val_loss: 0.0821 - val_acc: 0.9775\n",
            "Epoch 5/20\n",
            "60000/60000 [==============================] - 3s 46us/step - loss: 0.0522 - acc: 0.9844 - val_loss: 0.0949 - val_acc: 0.9751\n",
            "Epoch 6/20\n",
            "60000/60000 [==============================] - 3s 46us/step - loss: 0.0455 - acc: 0.9867 - val_loss: 0.0737 - val_acc: 0.9842\n",
            "Epoch 7/20\n",
            "60000/60000 [==============================] - 3s 46us/step - loss: 0.0376 - acc: 0.9886 - val_loss: 0.0945 - val_acc: 0.9791\n",
            "Epoch 8/20\n",
            "60000/60000 [==============================] - 3s 46us/step - loss: 0.0365 - acc: 0.9894 - val_loss: 0.0812 - val_acc: 0.9817\n",
            "Epoch 9/20\n",
            "60000/60000 [==============================] - 3s 46us/step - loss: 0.0339 - acc: 0.9904 - val_loss: 0.0889 - val_acc: 0.9816\n",
            "Epoch 10/20\n",
            "60000/60000 [==============================] - 3s 46us/step - loss: 0.0288 - acc: 0.9915 - val_loss: 0.0897 - val_acc: 0.9829\n",
            "Epoch 11/20\n",
            "60000/60000 [==============================] - 3s 47us/step - loss: 0.0266 - acc: 0.9923 - val_loss: 0.0977 - val_acc: 0.9823\n",
            "Epoch 12/20\n",
            "60000/60000 [==============================] - 3s 47us/step - loss: 0.0264 - acc: 0.9930 - val_loss: 0.0902 - val_acc: 0.9837\n",
            "Epoch 13/20\n",
            "60000/60000 [==============================] - 3s 46us/step - loss: 0.0248 - acc: 0.9932 - val_loss: 0.0954 - val_acc: 0.9822\n",
            "Epoch 14/20\n",
            "60000/60000 [==============================] - 3s 47us/step - loss: 0.0237 - acc: 0.9936 - val_loss: 0.0888 - val_acc: 0.9854\n",
            "Epoch 15/20\n",
            "60000/60000 [==============================] - 3s 47us/step - loss: 0.0246 - acc: 0.9936 - val_loss: 0.1112 - val_acc: 0.9823\n",
            "Epoch 16/20\n",
            "60000/60000 [==============================] - 3s 46us/step - loss: 0.0232 - acc: 0.9935 - val_loss: 0.1065 - val_acc: 0.9827\n",
            "Epoch 17/20\n",
            "60000/60000 [==============================] - 3s 46us/step - loss: 0.0206 - acc: 0.9947 - val_loss: 0.1037 - val_acc: 0.9828\n",
            "Epoch 18/20\n",
            "60000/60000 [==============================] - 3s 46us/step - loss: 0.0199 - acc: 0.9950 - val_loss: 0.1062 - val_acc: 0.9833\n",
            "Epoch 19/20\n",
            "60000/60000 [==============================] - 3s 46us/step - loss: 0.0199 - acc: 0.9949 - val_loss: 0.1077 - val_acc: 0.9822\n",
            "Epoch 20/20\n",
            "60000/60000 [==============================] - 3s 47us/step - loss: 0.0192 - acc: 0.9951 - val_loss: 0.1125 - val_acc: 0.9828\n",
            "Test loss: 0.11247676871383427\n",
            "Test accuracy: 0.9828\n"
          ],
          "name": "stdout"
        }
      ]
    },
    {
      "metadata": {
        "id": "iTlm7V7WERPf",
        "colab_type": "code",
        "colab": {}
      },
      "cell_type": "code",
      "source": [
        ""
      ],
      "execution_count": 0,
      "outputs": []
    }
  ]
}